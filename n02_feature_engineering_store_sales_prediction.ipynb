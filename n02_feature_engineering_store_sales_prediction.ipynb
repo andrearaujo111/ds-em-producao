{
 "cells": [
  {
   "cell_type": "markdown",
   "id": "4038317e",
   "metadata": {},
   "source": [
    "# 0. IMPORTS"
   ]
  },
  {
   "cell_type": "markdown",
   "id": "9775d612",
   "metadata": {},
   "source": [
    "## 0.1 HELPER FUNCTIONS"
   ]
  },
  {
   "cell_type": "code",
   "execution_count": 1,
   "id": "48d5cc06",
   "metadata": {
    "ExecuteTime": {
     "end_time": "2023-02-26T22:30:09.668097Z",
     "start_time": "2023-02-26T22:30:09.363345Z"
    }
   },
   "outputs": [],
   "source": [
    "import datetime\n",
    "import math\n",
    "import inflection\n",
    "import pandas as pd\n",
    "import seaborn as sns\n",
    "\n",
    "from matplotlib import pyplot as plt\n",
    "from IPython.display import Image"
   ]
  },
  {
   "cell_type": "markdown",
   "id": "56534c0b",
   "metadata": {
    "heading_collapsed": true,
    "jp-MarkdownHeadingCollapsed": true
   },
   "source": [
    "## 0.2 LOADING DATA"
   ]
  },
  {
   "cell_type": "code",
   "execution_count": 2,
   "id": "877f2f05",
   "metadata": {
    "ExecuteTime": {
     "end_time": "2023-02-26T22:30:10.288087Z",
     "start_time": "2023-02-26T22:30:09.670266Z"
    },
    "hidden": true
   },
   "outputs": [
    {
     "data": {
      "text/html": [
       "<div>\n",
       "<style scoped>\n",
       "    .dataframe tbody tr th:only-of-type {\n",
       "        vertical-align: middle;\n",
       "    }\n",
       "\n",
       "    .dataframe tbody tr th {\n",
       "        vertical-align: top;\n",
       "    }\n",
       "\n",
       "    .dataframe thead th {\n",
       "        text-align: right;\n",
       "    }\n",
       "</style>\n",
       "<table border=\"1\" class=\"dataframe\">\n",
       "  <thead>\n",
       "    <tr style=\"text-align: right;\">\n",
       "      <th></th>\n",
       "      <th>Store</th>\n",
       "      <th>DayOfWeek</th>\n",
       "      <th>Date</th>\n",
       "      <th>Sales</th>\n",
       "      <th>Customers</th>\n",
       "      <th>Open</th>\n",
       "      <th>Promo</th>\n",
       "      <th>StateHoliday</th>\n",
       "      <th>SchoolHoliday</th>\n",
       "      <th>StoreType</th>\n",
       "      <th>Assortment</th>\n",
       "      <th>CompetitionDistance</th>\n",
       "      <th>CompetitionOpenSinceMonth</th>\n",
       "      <th>CompetitionOpenSinceYear</th>\n",
       "      <th>Promo2</th>\n",
       "      <th>Promo2SinceWeek</th>\n",
       "      <th>Promo2SinceYear</th>\n",
       "      <th>PromoInterval</th>\n",
       "    </tr>\n",
       "  </thead>\n",
       "  <tbody>\n",
       "    <tr>\n",
       "      <th>0</th>\n",
       "      <td>1</td>\n",
       "      <td>5</td>\n",
       "      <td>2015-07-31</td>\n",
       "      <td>5263</td>\n",
       "      <td>555</td>\n",
       "      <td>1</td>\n",
       "      <td>1</td>\n",
       "      <td>0</td>\n",
       "      <td>1</td>\n",
       "      <td>c</td>\n",
       "      <td>a</td>\n",
       "      <td>1270.0</td>\n",
       "      <td>9.0</td>\n",
       "      <td>2008.0</td>\n",
       "      <td>0</td>\n",
       "      <td>NaN</td>\n",
       "      <td>NaN</td>\n",
       "      <td>NaN</td>\n",
       "    </tr>\n",
       "    <tr>\n",
       "      <th>1</th>\n",
       "      <td>2</td>\n",
       "      <td>5</td>\n",
       "      <td>2015-07-31</td>\n",
       "      <td>6064</td>\n",
       "      <td>625</td>\n",
       "      <td>1</td>\n",
       "      <td>1</td>\n",
       "      <td>0</td>\n",
       "      <td>1</td>\n",
       "      <td>a</td>\n",
       "      <td>a</td>\n",
       "      <td>570.0</td>\n",
       "      <td>11.0</td>\n",
       "      <td>2007.0</td>\n",
       "      <td>1</td>\n",
       "      <td>13.0</td>\n",
       "      <td>2010.0</td>\n",
       "      <td>Jan,Apr,Jul,Oct</td>\n",
       "    </tr>\n",
       "    <tr>\n",
       "      <th>2</th>\n",
       "      <td>3</td>\n",
       "      <td>5</td>\n",
       "      <td>2015-07-31</td>\n",
       "      <td>8314</td>\n",
       "      <td>821</td>\n",
       "      <td>1</td>\n",
       "      <td>1</td>\n",
       "      <td>0</td>\n",
       "      <td>1</td>\n",
       "      <td>a</td>\n",
       "      <td>a</td>\n",
       "      <td>14130.0</td>\n",
       "      <td>12.0</td>\n",
       "      <td>2006.0</td>\n",
       "      <td>1</td>\n",
       "      <td>14.0</td>\n",
       "      <td>2011.0</td>\n",
       "      <td>Jan,Apr,Jul,Oct</td>\n",
       "    </tr>\n",
       "    <tr>\n",
       "      <th>3</th>\n",
       "      <td>4</td>\n",
       "      <td>5</td>\n",
       "      <td>2015-07-31</td>\n",
       "      <td>13995</td>\n",
       "      <td>1498</td>\n",
       "      <td>1</td>\n",
       "      <td>1</td>\n",
       "      <td>0</td>\n",
       "      <td>1</td>\n",
       "      <td>c</td>\n",
       "      <td>c</td>\n",
       "      <td>620.0</td>\n",
       "      <td>9.0</td>\n",
       "      <td>2009.0</td>\n",
       "      <td>0</td>\n",
       "      <td>NaN</td>\n",
       "      <td>NaN</td>\n",
       "      <td>NaN</td>\n",
       "    </tr>\n",
       "    <tr>\n",
       "      <th>4</th>\n",
       "      <td>5</td>\n",
       "      <td>5</td>\n",
       "      <td>2015-07-31</td>\n",
       "      <td>4822</td>\n",
       "      <td>559</td>\n",
       "      <td>1</td>\n",
       "      <td>1</td>\n",
       "      <td>0</td>\n",
       "      <td>1</td>\n",
       "      <td>a</td>\n",
       "      <td>a</td>\n",
       "      <td>29910.0</td>\n",
       "      <td>4.0</td>\n",
       "      <td>2015.0</td>\n",
       "      <td>0</td>\n",
       "      <td>NaN</td>\n",
       "      <td>NaN</td>\n",
       "      <td>NaN</td>\n",
       "    </tr>\n",
       "  </tbody>\n",
       "</table>\n",
       "</div>"
      ],
      "text/plain": [
       "   Store  DayOfWeek        Date  Sales  Customers  Open  Promo StateHoliday  \\\n",
       "0      1          5  2015-07-31   5263        555     1      1            0   \n",
       "1      2          5  2015-07-31   6064        625     1      1            0   \n",
       "2      3          5  2015-07-31   8314        821     1      1            0   \n",
       "3      4          5  2015-07-31  13995       1498     1      1            0   \n",
       "4      5          5  2015-07-31   4822        559     1      1            0   \n",
       "\n",
       "   SchoolHoliday StoreType Assortment  CompetitionDistance  \\\n",
       "0              1         c          a               1270.0   \n",
       "1              1         a          a                570.0   \n",
       "2              1         a          a              14130.0   \n",
       "3              1         c          c                620.0   \n",
       "4              1         a          a              29910.0   \n",
       "\n",
       "   CompetitionOpenSinceMonth  CompetitionOpenSinceYear  Promo2  \\\n",
       "0                        9.0                    2008.0       0   \n",
       "1                       11.0                    2007.0       1   \n",
       "2                       12.0                    2006.0       1   \n",
       "3                        9.0                    2009.0       0   \n",
       "4                        4.0                    2015.0       0   \n",
       "\n",
       "   Promo2SinceWeek  Promo2SinceYear    PromoInterval  \n",
       "0              NaN              NaN              NaN  \n",
       "1             13.0           2010.0  Jan,Apr,Jul,Oct  \n",
       "2             14.0           2011.0  Jan,Apr,Jul,Oct  \n",
       "3              NaN              NaN              NaN  \n",
       "4              NaN              NaN              NaN  "
      ]
     },
     "execution_count": 2,
     "metadata": {},
     "output_type": "execute_result"
    }
   ],
   "source": [
    "# Load sales dataframe\n",
    "df_sales_raw = pd.read_csv('data/train.csv', low_memory=False)\n",
    "\n",
    "# Load some store information\n",
    "df_stores_raw = pd.read_csv('data/store.csv', low_memory=False)\n",
    "\n",
    "# Merge dataframes to increase store information\n",
    "df_raw = pd.merge(df_sales_raw, df_stores_raw, how='left', on='Store')\n",
    "df_raw.head()"
   ]
  },
  {
   "cell_type": "markdown",
   "id": "0d204af7",
   "metadata": {
    "jp-MarkdownHeadingCollapsed": true
   },
   "source": [
    "# 1. DATA DESCRIPTION"
   ]
  },
  {
   "cell_type": "code",
   "execution_count": 3,
   "id": "4e4b069a",
   "metadata": {
    "ExecuteTime": {
     "end_time": "2023-02-26T22:30:10.476475Z",
     "start_time": "2023-02-26T22:30:10.290093Z"
    }
   },
   "outputs": [],
   "source": [
    "# Make a dataframe copy\n",
    "df1 = df_raw.copy()"
   ]
  },
  {
   "cell_type": "markdown",
   "id": "5168fcfe",
   "metadata": {
    "ExecuteTime": {
     "end_time": "2023-02-23T22:41:17.498528Z",
     "start_time": "2023-02-23T22:41:17.489221Z"
    },
    "heading_collapsed": true,
    "jp-MarkdownHeadingCollapsed": true
   },
   "source": [
    "## 1.1 Rename Columns"
   ]
  },
  {
   "cell_type": "code",
   "execution_count": 4,
   "id": "0ede2789",
   "metadata": {
    "ExecuteTime": {
     "end_time": "2023-02-26T22:30:10.488605Z",
     "start_time": "2023-02-26T22:30:10.481374Z"
    },
    "hidden": true
   },
   "outputs": [],
   "source": [
    "# Saving columns name to a new variable\n",
    "cols_name = df1.columns.to_list()\n",
    "\n",
    "# Create a lambda function to pass columns name to snake case\n",
    "transform_snake_case = lambda x: inflection.underscore(x)\n",
    "\n",
    "# Apply function and save new names on another variable\n",
    "cols_name_new = list(map(transform_snake_case, cols_name))\n",
    "\n",
    "# Renaming the columns\n",
    "df1.columns = cols_name_new"
   ]
  },
  {
   "cell_type": "markdown",
   "id": "5ee125be",
   "metadata": {
    "ExecuteTime": {
     "end_time": "2023-02-23T23:18:20.275401Z",
     "start_time": "2023-02-23T23:18:20.271976Z"
    },
    "jp-MarkdownHeadingCollapsed": true
   },
   "source": [
    "## 1.2 Data Dimensions"
   ]
  },
  {
   "cell_type": "code",
   "execution_count": 5,
   "id": "b112ea0f",
   "metadata": {
    "ExecuteTime": {
     "end_time": "2023-02-26T22:30:10.499632Z",
     "start_time": "2023-02-26T22:30:10.492224Z"
    }
   },
   "outputs": [
    {
     "name": "stdout",
     "output_type": "stream",
     "text": [
      "The dataset have 1017209 rows and 18 columns\n"
     ]
    }
   ],
   "source": [
    "print(f'The dataset have {df1.shape[0]} rows and {df1.shape[1]} columns')"
   ]
  },
  {
   "cell_type": "markdown",
   "id": "c6f4ba33",
   "metadata": {
    "jp-MarkdownHeadingCollapsed": true
   },
   "source": [
    "## 1.3 Data Types"
   ]
  },
  {
   "cell_type": "code",
   "execution_count": 6,
   "id": "9473ea27",
   "metadata": {
    "ExecuteTime": {
     "end_time": "2023-02-26T22:30:10.618420Z",
     "start_time": "2023-02-26T22:30:10.502853Z"
    }
   },
   "outputs": [
    {
     "data": {
      "text/plain": [
       "store                                    int64\n",
       "day_of_week                              int64\n",
       "date                            datetime64[ns]\n",
       "sales                                    int64\n",
       "customers                                int64\n",
       "open                                     int64\n",
       "promo                                    int64\n",
       "state_holiday                           object\n",
       "school_holiday                           int64\n",
       "store_type                              object\n",
       "assortment                              object\n",
       "competition_distance                   float64\n",
       "competition_open_since_month           float64\n",
       "competition_open_since_year            float64\n",
       "promo2                                   int64\n",
       "promo2_since_week                      float64\n",
       "promo2_since_year                      float64\n",
       "promo_interval                          object\n",
       "dtype: object"
      ]
     },
     "execution_count": 6,
     "metadata": {},
     "output_type": "execute_result"
    }
   ],
   "source": [
    "# Change date format to datetime (it comes as string)\n",
    "df1['date'] = pd.to_datetime(df1['date'])\n",
    "df1.dtypes"
   ]
  },
  {
   "cell_type": "markdown",
   "id": "9e784607",
   "metadata": {
    "jp-MarkdownHeadingCollapsed": true
   },
   "source": [
    "## 1.4 Check NA's"
   ]
  },
  {
   "cell_type": "code",
   "execution_count": 7,
   "id": "bea03674",
   "metadata": {
    "ExecuteTime": {
     "end_time": "2023-02-26T22:30:11.084407Z",
     "start_time": "2023-02-26T22:30:10.620839Z"
    }
   },
   "outputs": [
    {
     "data": {
      "text/plain": [
       "store                                0\n",
       "day_of_week                          0\n",
       "date                                 0\n",
       "sales                                0\n",
       "customers                            0\n",
       "open                                 0\n",
       "promo                                0\n",
       "state_holiday                        0\n",
       "school_holiday                       0\n",
       "store_type                           0\n",
       "assortment                           0\n",
       "competition_distance              2642\n",
       "competition_open_since_month    323348\n",
       "competition_open_since_year     323348\n",
       "promo2                               0\n",
       "promo2_since_week               508031\n",
       "promo2_since_year               508031\n",
       "promo_interval                  508031\n",
       "dtype: int64"
      ]
     },
     "execution_count": 7,
     "metadata": {},
     "output_type": "execute_result"
    }
   ],
   "source": [
    "# Null data per column\n",
    "df1.isna().sum()"
   ]
  },
  {
   "cell_type": "markdown",
   "id": "e2766f28",
   "metadata": {
    "jp-MarkdownHeadingCollapsed": true
   },
   "source": [
    "## 1.5 Fillout NA"
   ]
  },
  {
   "cell_type": "code",
   "execution_count": 8,
   "id": "a9355188",
   "metadata": {
    "ExecuteTime": {
     "end_time": "2023-02-26T22:31:49.819629Z",
     "start_time": "2023-02-26T22:31:10.621636Z"
    }
   },
   "outputs": [],
   "source": [
    "# competition_distance (fill out with extreme values, assuming that null values does not have close competitor)\n",
    "df1['competition_distance'] = df1['competition_distance'].apply(lambda x: 150000.0 if math.isnan(x) else x)\n",
    "\n",
    "# competition_open_since_month \n",
    "df1['competition_open_since_month'] = df1.apply(lambda x: x['date'].month if math.isnan(x['competition_open_since_month'])\n",
    "                                                else (x['competition_open_since_month']), axis = 1)\n",
    "\n",
    "# competition_open_since_year\n",
    "df1['competition_open_since_year'] = df1.apply(lambda x: x['date'].year if math.isnan(x['competition_open_since_year'])\n",
    "                                                else (x['competition_open_since_year']), axis = 1)\n",
    "\n",
    "# promo2_since_week\n",
    "df1['promo2_since_week'] = df1.apply(lambda x: x['date'].week if math.isnan(x['promo2_since_week'])\n",
    "                                                else (x['promo2_since_week']), axis = 1)\n",
    "\n",
    "# promo2_since_year\n",
    "df1['promo2_since_year'] = df1.apply(lambda x: x['date'].year if math.isnan(x['promo2_since_year'])\n",
    "                                                else (x['promo2_since_year']), axis = 1)\n",
    "\n",
    "# promo_interval\n",
    "months = {1: 'Jan', 2:'Feb', 3:'Mar', 4:'Apr', 5: 'May', 6: 'Jun', 7: 'Jul', 8:'Aug', 9:'Sep', 10:'Oct', 11: 'Nov', 12: 'Dec'}\n",
    "df1['promo_interval'].fillna(0, inplace=True)\n",
    "df1['month_map'] = df1['date'].dt.month.map(months)\n",
    "\n",
    "df1['is_promo'] = df1.apply(lambda x: 0 if x['promo_interval'] == 0 \n",
    "                            else 1 if x['month_map'] in x['promo_interval'].split(',') \n",
    "                            else 0, axis=1)"
   ]
  },
  {
   "cell_type": "markdown",
   "id": "ac6ad786",
   "metadata": {
    "ExecuteTime": {
     "end_time": "2023-02-26T22:29:49.823012Z",
     "start_time": "2023-02-26T22:29:49.822998Z"
    },
    "jp-MarkdownHeadingCollapsed": true
   },
   "source": [
    "## 1.6 Check Data Types"
   ]
  },
  {
   "cell_type": "code",
   "execution_count": 9,
   "id": "92a8a885-432c-4ad1-872d-b4c5598c7094",
   "metadata": {},
   "outputs": [],
   "source": [
    "# Change data types from float to int\n",
    "df1['competition_open_since_month'] = df1['competition_open_since_month'].astype(int)\n",
    "df1['competition_open_since_year'] = df1['competition_open_since_year'].astype(int)\n",
    "df1['promo2_since_week'] = df1['promo2_since_week'].astype(int)\n",
    "df1['promo2_since_year'] = df1['promo2_since_year'].astype(int)"
   ]
  },
  {
   "cell_type": "code",
   "execution_count": 10,
   "id": "4bde4c7f",
   "metadata": {
    "ExecuteTime": {
     "end_time": "2023-02-26T22:31:49.877946Z",
     "start_time": "2023-02-26T22:31:49.877905Z"
    }
   },
   "outputs": [
    {
     "data": {
      "text/plain": [
       "store                                    int64\n",
       "day_of_week                              int64\n",
       "date                            datetime64[ns]\n",
       "sales                                    int64\n",
       "customers                                int64\n",
       "open                                     int64\n",
       "promo                                    int64\n",
       "state_holiday                           object\n",
       "school_holiday                           int64\n",
       "store_type                              object\n",
       "assortment                              object\n",
       "competition_distance                   float64\n",
       "competition_open_since_month             int64\n",
       "competition_open_since_year              int64\n",
       "promo2                                   int64\n",
       "promo2_since_week                        int64\n",
       "promo2_since_year                        int64\n",
       "promo_interval                          object\n",
       "month_map                               object\n",
       "is_promo                                 int64\n",
       "dtype: object"
      ]
     },
     "execution_count": 10,
     "metadata": {},
     "output_type": "execute_result"
    }
   ],
   "source": [
    "df1.dtypes"
   ]
  },
  {
   "cell_type": "markdown",
   "id": "d862a545-9b34-43af-b364-c9e3243f7bea",
   "metadata": {
    "jp-MarkdownHeadingCollapsed": true
   },
   "source": [
    "## 1.7 Descriptive Statistics"
   ]
  },
  {
   "cell_type": "code",
   "execution_count": 11,
   "id": "0b11a519-3389-48ea-911f-f3c27be23773",
   "metadata": {},
   "outputs": [],
   "source": [
    "# Central Tendency - mean, median\n",
    "# Dispersion - std, min, max, range, skew, kurtosis\n",
    "\n",
    "# Separating features into numerical and categorical\n",
    "\n",
    "num_att = df1.select_dtypes(include=('int64', 'float64'))\n",
    "cat_att = df1.select_dtypes(exclude=('int64', 'float64', 'datetime64[ns]'))"
   ]
  },
  {
   "cell_type": "markdown",
   "id": "df132578-c729-424d-883a-bb64fa0e7f83",
   "metadata": {},
   "source": [
    "### 1.7.1 Numerical Attributes"
   ]
  },
  {
   "cell_type": "code",
   "execution_count": 12,
   "id": "8b8d8492-965d-4ce4-8c69-6876b98066f3",
   "metadata": {},
   "outputs": [
    {
     "data": {
      "text/html": [
       "<div>\n",
       "<style scoped>\n",
       "    .dataframe tbody tr th:only-of-type {\n",
       "        vertical-align: middle;\n",
       "    }\n",
       "\n",
       "    .dataframe tbody tr th {\n",
       "        vertical-align: top;\n",
       "    }\n",
       "\n",
       "    .dataframe thead th {\n",
       "        text-align: right;\n",
       "    }\n",
       "</style>\n",
       "<table border=\"1\" class=\"dataframe\">\n",
       "  <thead>\n",
       "    <tr style=\"text-align: right;\">\n",
       "      <th></th>\n",
       "      <th>features</th>\n",
       "      <th>mean</th>\n",
       "      <th>median</th>\n",
       "      <th>min</th>\n",
       "      <th>max</th>\n",
       "      <th>range</th>\n",
       "      <th>25%</th>\n",
       "      <th>75%</th>\n",
       "      <th>std</th>\n",
       "      <th>skew</th>\n",
       "      <th>kurtosis</th>\n",
       "    </tr>\n",
       "  </thead>\n",
       "  <tbody>\n",
       "    <tr>\n",
       "      <th>0</th>\n",
       "      <td>store</td>\n",
       "      <td>558.429727</td>\n",
       "      <td>558.0</td>\n",
       "      <td>1.0</td>\n",
       "      <td>1115.0</td>\n",
       "      <td>1114.0</td>\n",
       "      <td>280.0</td>\n",
       "      <td>838.0</td>\n",
       "      <td>321.908651</td>\n",
       "      <td>-0.000955</td>\n",
       "      <td>-1.200524</td>\n",
       "    </tr>\n",
       "    <tr>\n",
       "      <th>1</th>\n",
       "      <td>day_of_week</td>\n",
       "      <td>3.998341</td>\n",
       "      <td>4.0</td>\n",
       "      <td>1.0</td>\n",
       "      <td>7.0</td>\n",
       "      <td>6.0</td>\n",
       "      <td>2.0</td>\n",
       "      <td>6.0</td>\n",
       "      <td>1.997391</td>\n",
       "      <td>0.001593</td>\n",
       "      <td>-1.246873</td>\n",
       "    </tr>\n",
       "    <tr>\n",
       "      <th>2</th>\n",
       "      <td>sales</td>\n",
       "      <td>5773.818972</td>\n",
       "      <td>5744.0</td>\n",
       "      <td>0.0</td>\n",
       "      <td>41551.0</td>\n",
       "      <td>41551.0</td>\n",
       "      <td>3727.0</td>\n",
       "      <td>7856.0</td>\n",
       "      <td>3849.926175</td>\n",
       "      <td>0.641460</td>\n",
       "      <td>1.778375</td>\n",
       "    </tr>\n",
       "    <tr>\n",
       "      <th>3</th>\n",
       "      <td>customers</td>\n",
       "      <td>633.145946</td>\n",
       "      <td>609.0</td>\n",
       "      <td>0.0</td>\n",
       "      <td>7388.0</td>\n",
       "      <td>7388.0</td>\n",
       "      <td>405.0</td>\n",
       "      <td>837.0</td>\n",
       "      <td>464.411734</td>\n",
       "      <td>1.598650</td>\n",
       "      <td>7.091773</td>\n",
       "    </tr>\n",
       "    <tr>\n",
       "      <th>4</th>\n",
       "      <td>open</td>\n",
       "      <td>0.830107</td>\n",
       "      <td>1.0</td>\n",
       "      <td>0.0</td>\n",
       "      <td>1.0</td>\n",
       "      <td>1.0</td>\n",
       "      <td>1.0</td>\n",
       "      <td>1.0</td>\n",
       "      <td>0.375539</td>\n",
       "      <td>-1.758045</td>\n",
       "      <td>1.090723</td>\n",
       "    </tr>\n",
       "    <tr>\n",
       "      <th>5</th>\n",
       "      <td>promo</td>\n",
       "      <td>0.381515</td>\n",
       "      <td>0.0</td>\n",
       "      <td>0.0</td>\n",
       "      <td>1.0</td>\n",
       "      <td>1.0</td>\n",
       "      <td>0.0</td>\n",
       "      <td>1.0</td>\n",
       "      <td>0.485759</td>\n",
       "      <td>0.487838</td>\n",
       "      <td>-1.762018</td>\n",
       "    </tr>\n",
       "    <tr>\n",
       "      <th>6</th>\n",
       "      <td>school_holiday</td>\n",
       "      <td>0.178647</td>\n",
       "      <td>0.0</td>\n",
       "      <td>0.0</td>\n",
       "      <td>1.0</td>\n",
       "      <td>1.0</td>\n",
       "      <td>0.0</td>\n",
       "      <td>0.0</td>\n",
       "      <td>0.383056</td>\n",
       "      <td>1.677842</td>\n",
       "      <td>0.815154</td>\n",
       "    </tr>\n",
       "    <tr>\n",
       "      <th>7</th>\n",
       "      <td>competition_distance</td>\n",
       "      <td>5805.577526</td>\n",
       "      <td>2330.0</td>\n",
       "      <td>20.0</td>\n",
       "      <td>150000.0</td>\n",
       "      <td>149980.0</td>\n",
       "      <td>710.0</td>\n",
       "      <td>6910.0</td>\n",
       "      <td>10654.365263</td>\n",
       "      <td>7.492361</td>\n",
       "      <td>88.374150</td>\n",
       "    </tr>\n",
       "    <tr>\n",
       "      <th>8</th>\n",
       "      <td>competition_open_since_month</td>\n",
       "      <td>6.786849</td>\n",
       "      <td>7.0</td>\n",
       "      <td>1.0</td>\n",
       "      <td>12.0</td>\n",
       "      <td>11.0</td>\n",
       "      <td>4.0</td>\n",
       "      <td>10.0</td>\n",
       "      <td>3.311087</td>\n",
       "      <td>-0.042076</td>\n",
       "      <td>-1.232607</td>\n",
       "    </tr>\n",
       "    <tr>\n",
       "      <th>9</th>\n",
       "      <td>competition_open_since_year</td>\n",
       "      <td>2010.324840</td>\n",
       "      <td>2012.0</td>\n",
       "      <td>1900.0</td>\n",
       "      <td>2015.0</td>\n",
       "      <td>115.0</td>\n",
       "      <td>2008.0</td>\n",
       "      <td>2014.0</td>\n",
       "      <td>5.515593</td>\n",
       "      <td>-7.235657</td>\n",
       "      <td>124.071304</td>\n",
       "    </tr>\n",
       "    <tr>\n",
       "      <th>10</th>\n",
       "      <td>promo2</td>\n",
       "      <td>0.500564</td>\n",
       "      <td>1.0</td>\n",
       "      <td>0.0</td>\n",
       "      <td>1.0</td>\n",
       "      <td>1.0</td>\n",
       "      <td>0.0</td>\n",
       "      <td>1.0</td>\n",
       "      <td>0.500000</td>\n",
       "      <td>-0.002255</td>\n",
       "      <td>-1.999999</td>\n",
       "    </tr>\n",
       "    <tr>\n",
       "      <th>11</th>\n",
       "      <td>promo2_since_week</td>\n",
       "      <td>23.619033</td>\n",
       "      <td>22.0</td>\n",
       "      <td>1.0</td>\n",
       "      <td>52.0</td>\n",
       "      <td>51.0</td>\n",
       "      <td>12.0</td>\n",
       "      <td>37.0</td>\n",
       "      <td>14.310064</td>\n",
       "      <td>0.178723</td>\n",
       "      <td>-1.184046</td>\n",
       "    </tr>\n",
       "    <tr>\n",
       "      <th>12</th>\n",
       "      <td>promo2_since_year</td>\n",
       "      <td>2012.793297</td>\n",
       "      <td>2013.0</td>\n",
       "      <td>2009.0</td>\n",
       "      <td>2015.0</td>\n",
       "      <td>6.0</td>\n",
       "      <td>2012.0</td>\n",
       "      <td>2014.0</td>\n",
       "      <td>1.662658</td>\n",
       "      <td>-0.784436</td>\n",
       "      <td>-0.210075</td>\n",
       "    </tr>\n",
       "    <tr>\n",
       "      <th>13</th>\n",
       "      <td>is_promo</td>\n",
       "      <td>0.165966</td>\n",
       "      <td>0.0</td>\n",
       "      <td>0.0</td>\n",
       "      <td>1.0</td>\n",
       "      <td>1.0</td>\n",
       "      <td>0.0</td>\n",
       "      <td>0.0</td>\n",
       "      <td>0.372050</td>\n",
       "      <td>1.795644</td>\n",
       "      <td>1.224338</td>\n",
       "    </tr>\n",
       "  </tbody>\n",
       "</table>\n",
       "</div>"
      ],
      "text/plain": [
       "                        features         mean  median     min       max  \\\n",
       "0                          store   558.429727   558.0     1.0    1115.0   \n",
       "1                    day_of_week     3.998341     4.0     1.0       7.0   \n",
       "2                          sales  5773.818972  5744.0     0.0   41551.0   \n",
       "3                      customers   633.145946   609.0     0.0    7388.0   \n",
       "4                           open     0.830107     1.0     0.0       1.0   \n",
       "5                          promo     0.381515     0.0     0.0       1.0   \n",
       "6                 school_holiday     0.178647     0.0     0.0       1.0   \n",
       "7           competition_distance  5805.577526  2330.0    20.0  150000.0   \n",
       "8   competition_open_since_month     6.786849     7.0     1.0      12.0   \n",
       "9    competition_open_since_year  2010.324840  2012.0  1900.0    2015.0   \n",
       "10                        promo2     0.500564     1.0     0.0       1.0   \n",
       "11             promo2_since_week    23.619033    22.0     1.0      52.0   \n",
       "12             promo2_since_year  2012.793297  2013.0  2009.0    2015.0   \n",
       "13                      is_promo     0.165966     0.0     0.0       1.0   \n",
       "\n",
       "       range     25%     75%           std      skew    kurtosis  \n",
       "0     1114.0   280.0   838.0    321.908651 -0.000955   -1.200524  \n",
       "1        6.0     2.0     6.0      1.997391  0.001593   -1.246873  \n",
       "2    41551.0  3727.0  7856.0   3849.926175  0.641460    1.778375  \n",
       "3     7388.0   405.0   837.0    464.411734  1.598650    7.091773  \n",
       "4        1.0     1.0     1.0      0.375539 -1.758045    1.090723  \n",
       "5        1.0     0.0     1.0      0.485759  0.487838   -1.762018  \n",
       "6        1.0     0.0     0.0      0.383056  1.677842    0.815154  \n",
       "7   149980.0   710.0  6910.0  10654.365263  7.492361   88.374150  \n",
       "8       11.0     4.0    10.0      3.311087 -0.042076   -1.232607  \n",
       "9      115.0  2008.0  2014.0      5.515593 -7.235657  124.071304  \n",
       "10       1.0     0.0     1.0      0.500000 -0.002255   -1.999999  \n",
       "11      51.0    12.0    37.0     14.310064  0.178723   -1.184046  \n",
       "12       6.0  2012.0  2014.0      1.662658 -0.784436   -0.210075  \n",
       "13       1.0     0.0     0.0      0.372050  1.795644    1.224338  "
      ]
     },
     "execution_count": 12,
     "metadata": {},
     "output_type": "execute_result"
    }
   ],
   "source": [
    "# mean, median, std, min, quartiles, max\n",
    "descriptive_num = num_att.describe().T\n",
    "\n",
    "# range\n",
    "descriptive_num['range'] = descriptive_num['max'] - descriptive_num['min']\n",
    "\n",
    "# skew\n",
    "skew = pd.DataFrame(num_att.apply(lambda x: x.skew()), columns=['skew'])\n",
    "\n",
    "# kurtosis\n",
    "kurtosis = pd.DataFrame(num_att.apply(lambda x: x.kurtosis()), columns=['kurtosis'])\n",
    "\n",
    "# Drop columns\n",
    "descriptive_num.drop(columns=['count'], inplace=True)\n",
    "\n",
    "# Concat data\n",
    "metrics = pd.concat([descriptive_num, skew, kurtosis], axis=1).reset_index()\n",
    "\n",
    "# Rename columns\n",
    "metrics.rename(columns={'50%': 'median', 'index': 'features'}, inplace=True)\n",
    "    \n",
    "# Reorder columns\n",
    "metrics = metrics[['features', 'mean', 'median', 'min', 'max', 'range', '25%', '75%', 'std', 'skew', 'kurtosis']]\n",
    "metrics"
   ]
  },
  {
   "cell_type": "markdown",
   "id": "02c16ddf-2a6b-4196-8cd0-a86f1d500498",
   "metadata": {},
   "source": [
    "### 1.7.2 Categorical Attributes"
   ]
  },
  {
   "cell_type": "code",
   "execution_count": 13,
   "id": "47870af0-067b-461e-8546-eebdaacc4d61",
   "metadata": {},
   "outputs": [
    {
     "data": {
      "text/plain": [
       "state_holiday     4\n",
       "store_type        4\n",
       "assortment        3\n",
       "promo_interval    4\n",
       "dtype: int64"
      ]
     },
     "execution_count": 13,
     "metadata": {},
     "output_type": "execute_result"
    }
   ],
   "source": [
    "# Drop month_map\n",
    "cat_att.drop(columns=['month_map'], inplace=True)\n",
    "\n",
    "# Show the number of categories\n",
    "cat_att.apply(lambda x: x.unique().shape[0])"
   ]
  },
  {
   "cell_type": "code",
   "execution_count": 14,
   "id": "c386931d-ed70-4a21-9463-e6ec056a1f15",
   "metadata": {},
   "outputs": [
    {
     "data": {
      "image/png": "[encoded data removed]",
      "text/plain": [
       "<Figure size 2000x1200 with 4 Axes>"
      ]
     },
     "metadata": {},
     "output_type": "display_data"
    }
   ],
   "source": [
    "# Set figure size\n",
    "plt.figure(figsize=(20, 12))\n",
    "\n",
    "# Filters\n",
    "aux1 = df1.loc[((df1['sales'] > 0) & (df1['state_holiday'] != '0')), :]\n",
    "\n",
    "# State Holiday\n",
    "plt.subplot(2, 2, 1)\n",
    "ax1 = sns.boxplot(x='state_holiday', y='sales', data=aux1)\n",
    "ax1.set_title('State Holiday')\n",
    "\n",
    "# Store Type\n",
    "plt.subplot(2, 2, 2)\n",
    "ax2 = sns.boxplot(x='store_type', y='sales', data=df1)\n",
    "ax2.set_title('Store Type')\n",
    "\n",
    "# Assortment\n",
    "plt.subplot(2, 2, 3)\n",
    "ax3 = sns.boxplot(x='assortment', y='sales', data=df1)\n",
    "ax3.set_title('Assortment')\n",
    "\n",
    "# Promo Interval\n",
    "plt.subplot(2, 2, 4)\n",
    "ax4 = sns.boxplot(x='promo_interval', y='sales', data=df1)\n",
    "ax4.set_title('Promo Interval')\n",
    "\n",
    "plt.show()"
   ]
  },
  {
   "cell_type": "markdown",
   "id": "c70c2af3-0866-4e90-bd12-3cc2d38d98d1",
   "metadata": {
    "jp-MarkdownHeadingCollapsed": true
   },
   "source": [
    "# 2. FEATURE ENGINEERING"
   ]
  },
  {
   "cell_type": "code",
   "execution_count": 15,
   "id": "ac98233f-4338-4298-838a-d3f103a04a2b",
   "metadata": {},
   "outputs": [],
   "source": [
    "df2 = df1.copy()"
   ]
  },
  {
   "cell_type": "markdown",
   "id": "4dabf088-0802-47e6-851f-5efc9d62ba23",
   "metadata": {
    "jp-MarkdownHeadingCollapsed": true
   },
   "source": [
    "## 2.1 Hypothesis Mindmap"
   ]
  },
  {
   "cell_type": "code",
   "execution_count": 16,
   "id": "85adc669-897e-47f9-9789-59a2fec6b793",
   "metadata": {},
   "outputs": [
    {
     "data": {
      "image/jpeg": "[encoded data removed]",
      "text/plain": [
       "<IPython.core.display.Image object>"
      ]
     },
     "execution_count": 16,
     "metadata": {},
     "output_type": "execute_result"
    }
   ],
   "source": [
    "Image('img/mindmap.jpg')"
   ]
  },
  {
   "cell_type": "markdown",
   "id": "546e383a-fe17-4ab3-b1f3-31b1dbae2c01",
   "metadata": {
    "jp-MarkdownHeadingCollapsed": true
   },
   "source": [
    "## 2.2 Creating Hypothesis"
   ]
  },
  {
   "cell_type": "markdown",
   "id": "d32a305a-0045-4d6c-8cc8-3a8b6fc6cb97",
   "metadata": {},
   "source": [
    "### 2.2.1 Stores"
   ]
  },
  {
   "cell_type": "markdown",
   "id": "39b32df7-6f8a-4340-8e54-1898e44a58bf",
   "metadata": {},
   "source": [
    "1. Stores with more employees should sell more.\n",
    "2. Stores with more stock capacity should sell more.\n",
    "3. Larger stores should sell more.\n",
    "4. Stores with a larger assortment should sell more.\n",
    "5. Stores with closer competitors should sell less.\n",
    "6. Stores with longer-term competitors should sell more.\n",
    "7. Stores with more stock capacity should sell more."
   ]
  },
  {
   "cell_type": "markdown",
   "id": "174ed036-8e64-49bf-92d6-81185580dd40",
   "metadata": {},
   "source": [
    "### 2.2.2 Products"
   ]
  },
  {
   "cell_type": "markdown",
   "id": "2c81a900-b50b-4fbb-afac-aa6cbd7192ea",
   "metadata": {},
   "source": [
    "1. Stores that invest more in marketing should sell more.\n",
    "2. Stores with more product exposure should sell more.\n",
    "3. Stores with lower priced products should sell more.\n",
    "5. Stores with more aggressive promotions (larger discounts) should sell more.\n",
    "6. Stores with longer promotions should sell more.\n",
    "7. Stores with more promotion days should sell more.\n",
    "8. Stores with more consecutive promotions should sell more."
   ]
  },
  {
   "cell_type": "markdown",
   "id": "84343543-92ea-415e-abc6-a758e1d80ea4",
   "metadata": {},
   "source": [
    "### 2.2.3 Seasonality"
   ]
  },
  {
   "cell_type": "markdown",
   "id": "b79fa0aa-fbc6-4e0e-a928-803b8c1de441",
   "metadata": {},
   "source": [
    "1. Stores open during the Christmas holiday should sell more.\n",
    "2. Stores should sell more over the years.\n",
    "3. Stores should sell more in the second half of the year.\n",
    "4. Stores should sell more after the 10th of each month.\n",
    "5. Stores should sell less on weekends.\n",
    "6. Stores should sell less during school holidays.days."
   ]
  },
  {
   "cell_type": "markdown",
   "id": "49489abb-7c20-4280-9d61-bc547e2f8663",
   "metadata": {
    "jp-MarkdownHeadingCollapsed": true
   },
   "source": [
    "## 2.3 Prioritized Hypothesis"
   ]
  },
  {
   "cell_type": "markdown",
   "id": "3a4ff5a8-d9e6-4bbc-aae4-d85a669e6ea2",
   "metadata": {},
   "source": [
    "1. Stores with a larger assortment should sell more.\n",
    "2. Stores with closer competitors should sell less.\n",
    "3. Stores with longer-term competitors should sell more.\n",
    "4. Stores with longer promotions should sell more.\n",
    "5. Stores with more promotion days should sell more.\n",
    "6. Stores with more consecutive promotions should sell more.\n",
    "7. Stores open during the Christmas holiday should sell more.\n",
    "8. Stores should sell more over the years.\n",
    "9. Stores should sell more in the second half of the year.\n",
    "10. Stores should sell more after the 10th day of each month.\n",
    "11. Stores should sell less on weekends.\n",
    "12. Stores should sell less during school holidays."
   ]
  },
  {
   "cell_type": "markdown",
   "id": "5295f674-564d-4336-aadf-d566177f63f2",
   "metadata": {},
   "source": [
    "## 2.4 Feature Engineering"
   ]
  },
  {
   "cell_type": "code",
   "execution_count": 41,
   "id": "8dbbdb53-b3f5-4916-9ee2-48d775be15ba",
   "metadata": {},
   "outputs": [],
   "source": [
    "# year\n",
    "df2['year'] = df1['date'].dt.year\n",
    "\n",
    "# month\n",
    "df2['month'] = df1['date'].dt.month\n",
    "\n",
    "# week\n",
    "df2['week'] = df1['date'].dt.isocalendar().week\n",
    "\n",
    "# day\n",
    "df2['day'] = df1['date'].dt.day\n",
    "\n",
    "# year-week\n",
    "df2['year_week'] = df2['date'].dt.strftime('%Y-%W')\n",
    "\n",
    "# Competition since date\n",
    "df2['competition_since_date'] = df2.apply(lambda x: datetime.datetime(year=x['competition_open_since_year'], \n",
    "                                                                 month=x['competition_open_since_month'], \n",
    "                                                                 day=1), axis=1)\n",
    "\n",
    "# Number of months in competition\n",
    "df2['competition_number_months'] = (((df2['date'] - df2['competition_since_date']).dt.days)/30).astype(int)\n",
    "\n",
    "# Promo since\n",
    "df2['promo_since'] = df2['promo2_since_year'].astype(str) + '-' + df2['promo2_since_week'].astype(str)\n",
    "df2['promo_since'] = df2['promo_since'].apply(lambda x: datetime.datetime.strptime(x + '-1', '%Y-%W-%w') - datetime.timedelta(days=7))\n",
    "\n",
    "# Number of weeks in promo\n",
    "df2['promo_number_weeks'] = (((df2['date'] - df2['promo_since']).dt.days)/7).astype(int)\n",
    "\n",
    "# Assortment\n",
    "df2['assortment'] = df2['assortment'].apply(lambda x: 'basic' if x == 'a' else 'extra' if x== 'b' else 'extended')\n",
    "\n",
    "# State Holiday\n",
    "df2['state_holiday'] = df2['state_holiday'].apply(lambda x: 'public_holiday' if x == 'a' else \n",
    "                                                            'easter_holiday' if x == 'b' else \n",
    "                                                            'christmas' if x == 'c' else \n",
    "                                                            'no_holiday')"
   ]
  },
  {
   "cell_type": "markdown",
   "id": "cfc7d112-8ca8-42cf-a333-632c1d38bfcf",
   "metadata": {},
   "source": [
    "# 3 FEATURE FILTERING"
   ]
  },
  {
   "cell_type": "code",
   "execution_count": 67,
   "id": "f5a635cd-c917-443b-9dcd-6dd0091c57ed",
   "metadata": {},
   "outputs": [],
   "source": [
    "df3 = df2.copy()"
   ]
  },
  {
   "cell_type": "markdown",
   "id": "3a2deb06-2e6a-45c2-9512-af4b565bbb32",
   "metadata": {},
   "source": [
    "## 3.1 Columsn Description"
   ]
  },
  {
   "cell_type": "markdown",
   "id": "3f750f0f-ec3e-4162-860a-3a2cb3d53793",
   "metadata": {},
   "source": [
    "- **store** - a unique Id for each store\n",
    "- **day_of_week** - The ordinal day of week\n",
    "- **date** - The date of the register (YYYY-MM-DD)\n",
    "- **sales** - the turnover for any given day (this is what you are predicting)\n",
    "- **customers** - the number of customers on a given day\n",
    "- **open** - an indicator for whether the store was open: 0 = closed, 1 = open\n",
    "- **promo** - indicates whether a store is running a promo on that dayPromo\n",
    "- **state_holiday** - indicates a state holiday. Normally all stores, with few exceptions, are closed on state holidays.  Note that all schools are closed on public holidays and weekends. a = public holiday, b = Easter holiday, c = Christmas, 0 = None\n",
    "- **school_holiday** - indicates if the (Store, Date) was affected by the closure of public schools\n",
    "- **store_type** - differentiates between 4 different store models: a, b, c, d\n",
    "- **assorment** - describes an assortment level: a = basic, b = extra, c = extended\n",
    "- **competition_distance** - distance in meters to the nearest competitor store\n",
    "- **competition_open_since_month** - The number of the month in which since there's a competition running for that store\n",
    "- **competition_open_since_year** - The number of the year in which since there's a competition running for that store\n",
    "- **promo2** - Promo2 is a continuing and consecutive promotion for some stores:  0 = store is not participating, 1 = store is participating\n",
    "- **promo2_since_week** - The number of the week of the year since the promo2 is running\n",
    "- **promo2_since_year** - The number of the year since promo2 is running\n",
    "- **promo_interval** - describes the consecutive intervals Promo2 is started, naming the months the promotion is started anew. E.g. \"Feb,May,Aug,Nov\" means each round starts in February, May, August, November of any given year for that store.\n",
    "- **month_map** - The month name of the date\n",
    "- **is_promo** - Flags if whether the current month is in promo interval. When it is, we can interpretate that promo2 is active on that date\n",
    "- **year, month, week, day** - The derivated time granularity of each date**\n",
    "- **year_week**- The week of the year and the year\n",
    "- **competition_since_date** - The date of since when there's a competition (YYYY-MM-DD)\r",
    "- **'competition_number_month** - The number of months of since there's a near competitor to that store\n",
    "- **'promo_sice** - The date of since there's a second promo on that store\n",
    "- **'promo_number_week** - The number of weeks since there's a second promo on that store\n"
   ]
  },
  {
   "cell_type": "markdown",
   "id": "38146f31-d634-421f-8913-1b645d955993",
   "metadata": {},
   "source": [
    "## 3.2 Rows Filtering"
   ]
  },
  {
   "cell_type": "code",
   "execution_count": 63,
   "id": "f52fbcf5-62a1-4afc-9f1a-f70c3c77d95e",
   "metadata": {},
   "outputs": [
    {
     "data": {
      "text/plain": [
       "1017209"
      ]
     },
     "execution_count": 63,
     "metadata": {},
     "output_type": "execute_result"
    }
   ],
   "source": [
    "# Rows before filtering\n",
    "len(df3)"
   ]
  },
  {
   "cell_type": "code",
   "execution_count": 68,
   "id": "61533e99-5fd8-464d-9ae4-6ac4620ce2f0",
   "metadata": {},
   "outputs": [],
   "source": [
    "conditions = (df3['open'] != 0) & (df3['sales'] > 0)\n",
    "df3 = df3[conditions].reset_index(drop=True)"
   ]
  },
  {
   "cell_type": "code",
   "execution_count": 69,
   "id": "8a2e8e5a-cbc0-4e3d-b0bf-a70955e79406",
   "metadata": {},
   "outputs": [
    {
     "data": {
      "text/plain": [
       "844338"
      ]
     },
     "execution_count": 69,
     "metadata": {},
     "output_type": "execute_result"
    }
   ],
   "source": [
    "# Rows after filtering\n",
    "len(df3)"
   ]
  },
  {
   "cell_type": "markdown",
   "id": "34852a7c-2d6e-41f8-a6d2-ba80a3d277b8",
   "metadata": {},
   "source": [
    "## 3.3 Columns Selection"
   ]
  },
  {
   "cell_type": "code",
   "execution_count": 70,
   "id": "f8b1d3a7-bebc-46ae-89fd-38a7c5b47e68",
   "metadata": {},
   "outputs": [],
   "source": [
    "cols = ['customers', 'open', 'month_map', 'promo_interval']\n",
    "df3.drop(columns=cols, axis=1, inplace=True)"
   ]
  },
  {
   "cell_type": "code",
   "execution_count": 72,
   "id": "c3843c6a-886e-4c21-9c6e-b4b1d7c0db35",
   "metadata": {},
   "outputs": [
    {
     "data": {
      "text/html": [
       "<div>\n",
       "<style scoped>\n",
       "    .dataframe tbody tr th:only-of-type {\n",
       "        vertical-align: middle;\n",
       "    }\n",
       "\n",
       "    .dataframe tbody tr th {\n",
       "        vertical-align: top;\n",
       "    }\n",
       "\n",
       "    .dataframe thead th {\n",
       "        text-align: right;\n",
       "    }\n",
       "</style>\n",
       "<table border=\"1\" class=\"dataframe\">\n",
       "  <thead>\n",
       "    <tr style=\"text-align: right;\">\n",
       "      <th></th>\n",
       "      <th>store</th>\n",
       "      <th>day_of_week</th>\n",
       "      <th>date</th>\n",
       "      <th>sales</th>\n",
       "      <th>promo</th>\n",
       "      <th>state_holiday</th>\n",
       "      <th>school_holiday</th>\n",
       "      <th>store_type</th>\n",
       "      <th>assortment</th>\n",
       "      <th>competition_distance</th>\n",
       "      <th>...</th>\n",
       "      <th>is_promo</th>\n",
       "      <th>year</th>\n",
       "      <th>month</th>\n",
       "      <th>week</th>\n",
       "      <th>day</th>\n",
       "      <th>year_week</th>\n",
       "      <th>competition_since_date</th>\n",
       "      <th>competition_number_months</th>\n",
       "      <th>promo_since</th>\n",
       "      <th>promo_number_weeks</th>\n",
       "    </tr>\n",
       "  </thead>\n",
       "  <tbody>\n",
       "    <tr>\n",
       "      <th>0</th>\n",
       "      <td>1</td>\n",
       "      <td>5</td>\n",
       "      <td>2015-07-31</td>\n",
       "      <td>5263</td>\n",
       "      <td>1</td>\n",
       "      <td>no_holiday</td>\n",
       "      <td>1</td>\n",
       "      <td>c</td>\n",
       "      <td>basic</td>\n",
       "      <td>1270.0</td>\n",
       "      <td>...</td>\n",
       "      <td>0</td>\n",
       "      <td>2015</td>\n",
       "      <td>7</td>\n",
       "      <td>31</td>\n",
       "      <td>31</td>\n",
       "      <td>2015-30</td>\n",
       "      <td>2008-09-01</td>\n",
       "      <td>84</td>\n",
       "      <td>2015-07-27</td>\n",
       "      <td>0</td>\n",
       "    </tr>\n",
       "    <tr>\n",
       "      <th>1</th>\n",
       "      <td>2</td>\n",
       "      <td>5</td>\n",
       "      <td>2015-07-31</td>\n",
       "      <td>6064</td>\n",
       "      <td>1</td>\n",
       "      <td>no_holiday</td>\n",
       "      <td>1</td>\n",
       "      <td>a</td>\n",
       "      <td>basic</td>\n",
       "      <td>570.0</td>\n",
       "      <td>...</td>\n",
       "      <td>1</td>\n",
       "      <td>2015</td>\n",
       "      <td>7</td>\n",
       "      <td>31</td>\n",
       "      <td>31</td>\n",
       "      <td>2015-30</td>\n",
       "      <td>2007-11-01</td>\n",
       "      <td>94</td>\n",
       "      <td>2010-03-22</td>\n",
       "      <td>279</td>\n",
       "    </tr>\n",
       "    <tr>\n",
       "      <th>2</th>\n",
       "      <td>3</td>\n",
       "      <td>5</td>\n",
       "      <td>2015-07-31</td>\n",
       "      <td>8314</td>\n",
       "      <td>1</td>\n",
       "      <td>no_holiday</td>\n",
       "      <td>1</td>\n",
       "      <td>a</td>\n",
       "      <td>basic</td>\n",
       "      <td>14130.0</td>\n",
       "      <td>...</td>\n",
       "      <td>1</td>\n",
       "      <td>2015</td>\n",
       "      <td>7</td>\n",
       "      <td>31</td>\n",
       "      <td>31</td>\n",
       "      <td>2015-30</td>\n",
       "      <td>2006-12-01</td>\n",
       "      <td>105</td>\n",
       "      <td>2011-03-28</td>\n",
       "      <td>226</td>\n",
       "    </tr>\n",
       "    <tr>\n",
       "      <th>3</th>\n",
       "      <td>4</td>\n",
       "      <td>5</td>\n",
       "      <td>2015-07-31</td>\n",
       "      <td>13995</td>\n",
       "      <td>1</td>\n",
       "      <td>no_holiday</td>\n",
       "      <td>1</td>\n",
       "      <td>c</td>\n",
       "      <td>extended</td>\n",
       "      <td>620.0</td>\n",
       "      <td>...</td>\n",
       "      <td>0</td>\n",
       "      <td>2015</td>\n",
       "      <td>7</td>\n",
       "      <td>31</td>\n",
       "      <td>31</td>\n",
       "      <td>2015-30</td>\n",
       "      <td>2009-09-01</td>\n",
       "      <td>71</td>\n",
       "      <td>2015-07-27</td>\n",
       "      <td>0</td>\n",
       "    </tr>\n",
       "    <tr>\n",
       "      <th>4</th>\n",
       "      <td>5</td>\n",
       "      <td>5</td>\n",
       "      <td>2015-07-31</td>\n",
       "      <td>4822</td>\n",
       "      <td>1</td>\n",
       "      <td>no_holiday</td>\n",
       "      <td>1</td>\n",
       "      <td>a</td>\n",
       "      <td>basic</td>\n",
       "      <td>29910.0</td>\n",
       "      <td>...</td>\n",
       "      <td>0</td>\n",
       "      <td>2015</td>\n",
       "      <td>7</td>\n",
       "      <td>31</td>\n",
       "      <td>31</td>\n",
       "      <td>2015-30</td>\n",
       "      <td>2015-04-01</td>\n",
       "      <td>4</td>\n",
       "      <td>2015-07-27</td>\n",
       "      <td>0</td>\n",
       "    </tr>\n",
       "  </tbody>\n",
       "</table>\n",
       "<p>5 rows × 25 columns</p>\n",
       "</div>"
      ],
      "text/plain": [
       "   store  day_of_week       date  sales  promo state_holiday  school_holiday  \\\n",
       "0      1            5 2015-07-31   5263      1    no_holiday               1   \n",
       "1      2            5 2015-07-31   6064      1    no_holiday               1   \n",
       "2      3            5 2015-07-31   8314      1    no_holiday               1   \n",
       "3      4            5 2015-07-31  13995      1    no_holiday               1   \n",
       "4      5            5 2015-07-31   4822      1    no_holiday               1   \n",
       "\n",
       "  store_type assortment  competition_distance  ...  is_promo  year  month  \\\n",
       "0          c      basic                1270.0  ...         0  2015      7   \n",
       "1          a      basic                 570.0  ...         1  2015      7   \n",
       "2          a      basic               14130.0  ...         1  2015      7   \n",
       "3          c   extended                 620.0  ...         0  2015      7   \n",
       "4          a      basic               29910.0  ...         0  2015      7   \n",
       "\n",
       "   week  day  year_week  competition_since_date  competition_number_months  \\\n",
       "0    31   31    2015-30              2008-09-01                         84   \n",
       "1    31   31    2015-30              2007-11-01                         94   \n",
       "2    31   31    2015-30              2006-12-01                        105   \n",
       "3    31   31    2015-30              2009-09-01                         71   \n",
       "4    31   31    2015-30              2015-04-01                          4   \n",
       "\n",
       "   promo_since  promo_number_weeks  \n",
       "0   2015-07-27                   0  \n",
       "1   2010-03-22                 279  \n",
       "2   2011-03-28                 226  \n",
       "3   2015-07-27                   0  \n",
       "4   2015-07-27                   0  \n",
       "\n",
       "[5 rows x 25 columns]"
      ]
     },
     "execution_count": 72,
     "metadata": {},
     "output_type": "execute_result"
    }
   ],
   "source": [
    "df3.head()"
   ]
  },
  {
   "cell_type": "code",
   "execution_count": null,
   "id": "170db97e-e5a2-4114-9a5c-1babee71ccaa",
   "metadata": {},
   "outputs": [],
   "source": []
  }
 ],
 "metadata": {
  "kernelspec": {
   "display_name": "Python 3 (ipykernel)",
   "language": "python",
   "name": "python3"
  },
  "language_info": {
   "codemirror_mode": {
    "name": "ipython",
    "version": 3
   },
   "file_extension": ".py",
   "mimetype": "text/x-python",
   "name": "python",
   "nbconvert_exporter": "python",
   "pygments_lexer": "ipython3",
   "version": "3.11.1"
  },
  "varInspector": {
   "cols": {
    "lenName": 16,
    "lenType": 16,
    "lenVar": 40
   },
   "kernels_config": {
    "python": {
     "delete_cmd_postfix": "",
     "delete_cmd_prefix": "del ",
     "library": "var_list.py",
     "varRefreshCmd": "print(var_dic_list())"
    },
    "r": {
     "delete_cmd_postfix": ") ",
     "delete_cmd_prefix": "rm(",
     "library": "var_list.r",
     "varRefreshCmd": "cat(var_dic_list()) "
    }
   },
   "types_to_exclude": [
    "module",
    "function",
    "builtin_function_or_method",
    "instance",
    "_Feature"
   ],
   "window_display": false
  }
 },
 "nbformat": 4,
 "nbformat_minor": 5
}
